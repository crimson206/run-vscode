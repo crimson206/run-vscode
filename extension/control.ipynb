{
 "cells": [
  {
   "cell_type": "code",
   "execution_count": 1,
   "metadata": {},
   "outputs": [],
   "source": [
    "from crimson.file_loader import collect_files"
   ]
  },
  {
   "cell_type": "code",
   "execution_count": 2,
   "metadata": {},
   "outputs": [],
   "source": [
    "def my_editor(text:str)->str:\n",
    "    text = text.replace('..%', '')\n",
    "    return text"
   ]
  },
  {
   "cell_type": "code",
   "execution_count": 3,
   "metadata": {},
   "outputs": [
    {
     "name": "stdout",
     "output_type": "stream",
     "text": [
      "Files collected from . to ./module\n"
     ]
    }
   ],
   "source": [
    "collect_files(\n",
    "    '.',\n",
    "    './module',\n",
    "    includes=['src/'],\n",
    "    excludes=[\n",
    "        '__pycache__',\n",
    "        'egg-info',\n",
    "        'git',\n",
    "        'css',\n",
    "        'json',\n",
    "        'png',\n",
    "        'js',\n",
    "        '.yarnrc',\n",
    "        'dist',\n",
    "        'compare/',\n",
    "        '.vscodeignore',\n",
    "        'control.ipynb',\n",
    "        'yarn.lock',\n",
    "        'plan/',\n",
    "        'node_modules/'\n",
    "    ],\n",
    "    post_path_editor=my_editor\n",
    ")"
   ]
  }
 ],
 "metadata": {
  "kernelspec": {
   "display_name": "ast-dev-tool",
   "language": "python",
   "name": "python3"
  },
  "language_info": {
   "codemirror_mode": {
    "name": "ipython",
    "version": 3
   },
   "file_extension": ".py",
   "mimetype": "text/x-python",
   "name": "python",
   "nbconvert_exporter": "python",
   "pygments_lexer": "ipython3",
   "version": "3.12.2"
  }
 },
 "nbformat": 4,
 "nbformat_minor": 2
}
